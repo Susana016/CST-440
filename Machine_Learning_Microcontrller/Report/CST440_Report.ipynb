{
 "cells": [
  {
   "cell_type": "markdown",
   "id": "8825e5f7",
   "metadata": {},
   "source": [
    "# CLC – Machine Learning on a Microcontroller"
   ]
  },
  {
   "cell_type": "code",
   "execution_count": null,
   "id": "96c38a4b",
   "metadata": {},
   "outputs": [],
   "source": []
  }
 ],
 "metadata": {
  "kernelspec": {
   "display_name": "base",
   "language": "python",
   "name": "python3"
  },
  "language_info": {
   "codemirror_mode": {
    "name": "ipython",
    "version": 3
   },
   "file_extension": ".py",
   "mimetype": "text/x-python",
   "name": "python",
   "nbconvert_exporter": "python",
   "pygments_lexer": "ipython3",
   "version": "3.12.7"
  }
 },
 "nbformat": 4,
 "nbformat_minor": 5
}
